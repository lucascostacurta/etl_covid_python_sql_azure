{
 "cells": [
  {
   "cell_type": "code",
   "execution_count": 19,
   "id": "b4ae4bac",
   "metadata": {},
   "outputs": [
    {
     "name": "stdout",
     "output_type": "stream",
     "text": [
      "Dados extraídos de: https://brasil.io/api/dataset/covid19/caso/data?is_last=True\n",
      "Dados extraídos de: https://brasil.io/api/v1/dataset/covid19/caso/data/?is_last=True&page=2\n",
      "Dados extraídos de: https://brasil.io/api/v1/dataset/covid19/caso/data/?is_last=True&page=3\n",
      "Dados extraídos de: https://brasil.io/api/v1/dataset/covid19/caso/data/?is_last=True&page=4\n",
      "Dados extraídos de: https://brasil.io/api/v1/dataset/covid19/caso/data/?is_last=True&page=5\n",
      "Dados extraídos de: https://brasil.io/api/v1/dataset/covid19/caso/data/?is_last=True&page=6\n",
      "Todos os dados foram extraídos com sucesso.\n"
     ]
    }
   ],
   "source": [
    "# Testando a extração da tabela de COVID-19 utilizando API com paginação\n",
    "\n",
    "import requests\n",
    "import pandas as pd\n",
    "import os\n",
    "from dotenv import load_dotenv\n",
    "\n",
    "load_dotenv()\n",
    "\n",
    "# '?is_last=True' garante que traga apenas os dados mais recentes por cidade/estado\n",
    "api = os.getenv('API_COVID_URL')\n",
    "token = os.getenv('BRASIL_IO_TOKEN')\n",
    "\n",
    "headers = {\n",
    "    'Authorization': f'Token {token}'\n",
    "}\n",
    "\n",
    "def extract_file():\n",
    "    url = api  # começa com a URL inicial da API\n",
    "    all_data = []\n",
    "\n",
    "    while url:\n",
    "        response = requests.get(url, headers=headers)\n",
    "\n",
    "        if response.status_code == 200:\n",
    "            data = response.json()\n",
    "            results = data['results']\n",
    "            df_temp = pd.json_normalize(results)\n",
    "            all_data.append(df_temp)\n",
    "            print(f'Dados extraídos de: {url}')\n",
    "            url = data['next']  # próxima página, ou None se acabou\n",
    "        else:\n",
    "            print(f'Erro ao acessar {url}: {response.status_code}')\n",
    "            break\n",
    "\n",
    "    if all_data:\n",
    "        df = pd.concat(all_data, ignore_index=True)\n",
    "        df.to_csv(\n",
    "            r'C:\\Users\\lcfer\\OneDrive\\Documentos\\02_Work\\00_Projects\\01_Data Engineering\\01_ETL com Python e Azure\\data\\raw\\dados.csv',\n",
    "            index=False\n",
    "        )\n",
    "        print('Todos os dados foram extraídos com sucesso.')\n",
    "        return df\n",
    "    else:\n",
    "        print('Nenhum dado foi extraído.')\n",
    "        return None\n",
    "\n",
    "if __name__ == '__main__':\n",
    "    extract_file()\n"
   ]
  }
 ],
 "metadata": {
  "kernelspec": {
   "display_name": "covid_dataset",
   "language": "python",
   "name": "python3"
  },
  "language_info": {
   "codemirror_mode": {
    "name": "ipython",
    "version": 3
   },
   "file_extension": ".py",
   "mimetype": "text/x-python",
   "name": "python",
   "nbconvert_exporter": "python",
   "pygments_lexer": "ipython3",
   "version": "3.13.5"
  }
 },
 "nbformat": 4,
 "nbformat_minor": 5
}
